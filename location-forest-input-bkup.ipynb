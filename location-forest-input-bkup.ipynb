{
 "cells": [
  {
   "cell_type": "markdown",
   "metadata": {
    "id": "5dO88RvhLC1c"
   },
   "source": [
    "Backup and run loacally at:\n",
    "https://model.earth/RealityStream/models/location-forest\n",
    "\n",
    "Load Libraries and data"
   ]
  },
  {
   "cell_type": "code",
   "execution_count": 13,
   "metadata": {
    "id": "Lt4iSgHqLCVR"
   },
   "outputs": [
    {
     "name": "stdout",
     "output_type": "stream",
     "text": [
      "     State  State ANSI Ag District  Ag District Code   County  County ANSI  \\\n",
      "0  ALABAMA           1  BLACK BELT                40  AUTAUGA          1.0   \n",
      "1  ALABAMA           1  BLACK BELT                40  BULLOCK         11.0   \n",
      "2  ALABAMA           1  BLACK BELT                40   DALLAS         47.0   \n",
      "3  ALABAMA           1  BLACK BELT                40   ELMORE         51.0   \n",
      "4  ALABAMA           1  BLACK BELT                40   GREENE         63.0   \n",
      "\n",
      "  2002 2007 2012 2017 2022  \n",
      "0  212  201  119  137  258  \n",
      "1  NaN  NaN  NaN  NaN   48  \n",
      "2  NaN  NaN   65  209  629  \n",
      "3  NaN   31  190  151  305  \n",
      "4  NaN  NaN   14   31   40  \n"
     ]
    }
   ],
   "source": [
    "import pandas as pd\n",
    "import numpy as np\n",
    "import matplotlib.pyplot as plt\n",
    "\n",
    "# Get the raw file contents directly without any HTML wrapping or formatting\n",
    "\n",
    "df = pd.read_csv(\"../../input/bees/features/bees-locations.csv\")\n",
    "\n",
    "df = df[['Year', 'State', 'State ANSI', 'Ag District', 'Ag District Code', 'County',\n",
    "       'County ANSI','Value']]\n",
    "\n",
    "df = df.pivot(index=['State', 'State ANSI', 'Ag District', 'Ag District Code', 'County',\n",
    "       'County ANSI',], columns='Year', values='Value').reset_index()\n",
    "\n",
    "df = df.rename_axis(None, axis=1)\n",
    "\n",
    "df = df.replace(\" (D)\", np.NaN)\n",
    "\n",
    "print(df.head())"
   ]
  },
  {
   "cell_type": "markdown",
   "metadata": {
    "id": "eFoDFmdD3cAY"
   },
   "source": [
    "Preprocess the data  \n",
    "TO DO: Modify to work with all input data, regardless of year"
   ]
  },
  {
   "cell_type": "code",
   "execution_count": 14,
   "metadata": {
    "id": "khEr0Ixc3bq0"
   },
   "outputs": [],
   "source": [
    "# remove ',' in number\n",
    "df[2002] = df[2002].str.replace(',', '')\n",
    "df[2007] = df[2007].str.replace(',', '')\n",
    "df[2012] = df[2012].str.replace(',', '')\n",
    "df[2017] = df[2017].str.replace(',', '')\n",
    "df[2022] = df[2022].str.replace(',', '')\n",
    "# convert columns to int date type\n",
    "df[2002] = df[2002].fillna(0).astype(str).astype(int)\n",
    "df[2007] = df[2007].fillna(0).astype(str).astype(int)\n",
    "df[2012] = df[2012].fillna(0).astype(str).astype(int)\n",
    "df[2017] = df[2017].fillna(0).astype(str).astype(int)\n",
    "df[2022] = df[2022].fillna(0).astype(str).astype(int)\n",
    "# replace 0 back to nan\n",
    "df[2002] = df[2002].replace(0, np.NaN)\n",
    "df[2007] = df[2007].replace(0, np.NaN)\n",
    "df[2012] = df[2012].replace(0, np.NaN)\n",
    "df[2017] = df[2017].replace(0, np.NaN)\n",
    "df[2022] = df[2022].replace(0, np.NaN)\n",
    "# replace outliers to nan\n",
    "df[2002] = df[2002].mask(df[2012].sub(df[2012].mean()).div(df[2012].std()).abs().gt(2))\n",
    "df[2007] = df[2007].mask(df[2012].sub(df[2012].mean()).div(df[2012].std()).abs().gt(2))\n",
    "df[2012] = df[2012].mask(df[2012].sub(df[2012].mean()).div(df[2012].std()).abs().gt(2))\n",
    "df[2017] = df[2017].mask(df[2017].sub(df[2017].mean()).div(df[2017].std()).abs().gt(2))\n",
    "df[2022] = df[2022].mask(df[2022].sub(df[2022].mean()).div(df[2022].std()).abs().gt(2))\n",
    "# impute nan with mean\n",
    "df[2002].fillna(value=round(df[2012].mean()), inplace=True)\n",
    "df[2007].fillna(value=round(df[2012].mean()), inplace=True)\n",
    "df[2012].fillna(value=round(df[2012].mean()), inplace=True)\n",
    "df[2017].fillna(value=round(df[2017].mean()), inplace=True)\n",
    "df[2022].fillna(value=round(df[2022].mean()), inplace=True)\n",
    "\n"
   ]
  },
  {
   "cell_type": "code",
   "execution_count": 15,
   "metadata": {},
   "outputs": [
    {
     "data": {
      "text/plain": [
       "Index([           'State',       'State ANSI',      'Ag District',\n",
       "       'Ag District Code',           'County',      'County ANSI',\n",
       "                     2002,               2007,               2012,\n",
       "                     2017,               2022],\n",
       "      dtype='object')"
      ]
     },
     "execution_count": 15,
     "metadata": {},
     "output_type": "execute_result"
    }
   ],
   "source": [
    "#Checking number of columns in the dataframe\n",
    "df.head()\n",
    "df.columns"
   ]
  },
  {
   "cell_type": "code",
   "execution_count": 16,
   "metadata": {},
   "outputs": [],
   "source": [
    "#importing data to calculate Total_Area_Km2, which is useful to calculate bee population density\n",
    "import requests\n",
    "import pandas as pd\n",
    "\n",
    "# API URL\n",
    "url = \"https://api.census.gov/data/2023/geoinfo?get=GEO_ID,NAME,AREALAND,AREAWATR&for=county:*\"\n",
    "# params = {\n",
    "#     \"get\": \"GEO_ID,NAME,AREALAND,AREAWATR\",\n",
    "#     \"for\": \"county:*\"\n",
    "# }\n",
    "\n",
    "# Make the API request\n",
    "response = requests.get(url)"
   ]
  },
  {
   "cell_type": "code",
   "execution_count": 17,
   "metadata": {},
   "outputs": [
    {
     "name": "stdout",
     "output_type": "stream",
     "text": [
      "       FIPS               county        state  Total_Area_km2\n",
      "0     01001              autauga      alabama     1565.308997\n",
      "1     01003              baldwin      alabama     5250.612251\n",
      "2     01005              barbour      alabama     2342.683364\n",
      "3     01007                 bibb      alabama     1621.761015\n",
      "4     01009               blount      alabama     1685.119381\n",
      "...     ...                  ...          ...             ...\n",
      "3217  72145  vega baja municipio  puerto rico      176.572672\n",
      "3218  72147    vieques municipio  puerto rico      683.734210\n",
      "3219  72149   villalba municipio  puerto rico       95.921207\n",
      "3220  72151    yabucoa municipio  puerto rico      215.597702\n",
      "3221  72153      yauco municipio  puerto rico      176.997181\n",
      "\n",
      "[3222 rows x 4 columns]\n"
     ]
    }
   ],
   "source": [
    "# Check the response status\n",
    "if response.status_code == 200:\n",
    "    # Load the response data\n",
    "    data = response.json()\n",
    "\n",
    "    # Create a DataFrame from the data\n",
    "    df_area = pd.DataFrame(data[1:], columns=data[0])\n",
    "\n",
    "    # Convert AREALAND and AREAWATR to numeric and calculate total area (in square kilometers)\n",
    "    df_area[\"AREALAND\"] = pd.to_numeric(df_area[\"AREALAND\"])\n",
    "    df_area[\"AREAWATR\"] = pd.to_numeric(df_area[\"AREAWATR\"])\n",
    "    df_area[\"Total_Area_km2\"] = (df_area[\"AREALAND\"] + df_area[\"AREAWATR\"]) / 1e6\n",
    "\n",
    "    # Split NAME into 'county' and 'state' (convert to lowercase)\n",
    "    df_area[[\"county\", \"state\"]] = df_area[\"NAME\"].str.split(\", \", expand=True)\n",
    "    df_area[\"county\"] = df_area[\"county\"].str.replace(' County', '', regex=False).str.lower()\n",
    "    df_area[\"state\"] = df_area[\"state\"].str.lower()\n",
    "\n",
    "    # Keep only the last 5 digits of GEO_ID as FIPS\n",
    "    df_area[\"FIPS\"] = df_area[\"GEO_ID\"].str[-5:]\n",
    "\n",
    "    # Keep only the desired columns\n",
    "    df_area = df_area[[\"FIPS\", \"county\", \"state\", \"Total_Area_km2\"]]\n",
    "    \n",
    "    #df_area.rename(columns={'state': 'State','county':'County'}, inplace=True)\n",
    "\n",
    "    # Display the resulting DataFrame\n",
    "    print(df_area)\n",
    "else:\n",
    "    print(f\"Failed to fetch data. Status Code: {response.status_code}, Response: {response.text}\")\n"
   ]
  },
  {
   "cell_type": "code",
   "execution_count": 18,
   "metadata": {},
   "outputs": [
    {
     "name": "stdout",
     "output_type": "stream",
     "text": [
      "         State  State ANSI Ag District  Ag District Code    County  \\\n",
      "0      ALABAMA           1  BLACK BELT                40   autauga   \n",
      "1      ALABAMA           1  BLACK BELT                40   bullock   \n",
      "2      ALABAMA           1  BLACK BELT                40    dallas   \n",
      "3      ALABAMA           1  BLACK BELT                40    dallas   \n",
      "4      ALABAMA           1  BLACK BELT                40    dallas   \n",
      "...        ...         ...         ...               ...       ...   \n",
      "14355  WYOMING          56   SOUTHEAST                50    goshen   \n",
      "14356  WYOMING          56   SOUTHEAST                50   laramie   \n",
      "14357  WYOMING          56   SOUTHEAST                50  niobrara   \n",
      "14358  WYOMING          56        WEST                30  sublette   \n",
      "14359  WYOMING          56        WEST                30     uinta   \n",
      "\n",
      "       County ANSI   2002   2007   2012   2017   2022   FIPS    county  \\\n",
      "0              1.0  212.0  201.0  119.0  137.0  258.0  01001   autauga   \n",
      "1             11.0  517.0  517.0  517.0  431.0   48.0  01011   bullock   \n",
      "2             47.0  517.0  517.0   65.0  209.0  629.0  01047    dallas   \n",
      "3             47.0  517.0  517.0   65.0  209.0  629.0  05039    dallas   \n",
      "4             47.0  517.0  517.0   65.0  209.0  629.0  19049    dallas   \n",
      "...            ...    ...    ...    ...    ...    ...    ...       ...   \n",
      "14355         15.0  517.0  517.0  517.0  431.0  656.0  56015    goshen   \n",
      "14356         21.0  517.0  517.0  158.0   77.0   51.0  56021   laramie   \n",
      "14357         27.0  517.0  517.0  517.0  431.0  656.0  56027  niobrara   \n",
      "14358         35.0  517.0  517.0  517.0   10.0  656.0  56035  sublette   \n",
      "14359         41.0  517.0  517.0  136.0  233.0  188.0  56041     uinta   \n",
      "\n",
      "          state  Total_Area_km2  2002_bee_density  2007_bee_density  \\\n",
      "0       alabama     1565.308997          0.135437          0.128409   \n",
      "1       alabama     1619.114135          0.319310          0.319310   \n",
      "2       alabama     2574.044374          0.200851          0.200851   \n",
      "3      arkansas     1730.089680          0.298828          0.298828   \n",
      "4          iowa     1532.251522          0.337412          0.337412   \n",
      "...         ...             ...               ...               ...   \n",
      "14355   wyoming     5781.280682          0.089427          0.089427   \n",
      "14356   wyoming     6960.703119          0.074274          0.074274   \n",
      "14357   wyoming     6806.350123          0.075958          0.075958   \n",
      "14358   wyoming    12783.282657          0.040443          0.040443   \n",
      "14359   wyoming     5408.257585          0.095595          0.095595   \n",
      "\n",
      "       2012_bee_density  2017_bee_density  2022_bee_density  \n",
      "0              0.076023          0.087523          0.164824  \n",
      "1              0.319310          0.266195          0.029646  \n",
      "2              0.025252          0.081195          0.244363  \n",
      "3              0.037570          0.120803          0.363565  \n",
      "4              0.042421          0.136401          0.410507  \n",
      "...                 ...               ...               ...  \n",
      "14355          0.089427          0.074551          0.113470  \n",
      "14356          0.022699          0.011062          0.007327  \n",
      "14357          0.075958          0.063323          0.096381  \n",
      "14358          0.040443          0.000782          0.051317  \n",
      "14359          0.025147          0.043082          0.034762  \n",
      "\n",
      "[14360 rows x 20 columns]\n"
     ]
    }
   ],
   "source": [
    "# Select only relevant columns for the join\n",
    "df['County'] = df['County'].str.lower()\n",
    "df['State']\n",
    "# Perform an inner join on County name\n",
    "merged_data = pd.merge(\n",
    "    df,\n",
    "    df_area,\n",
    "    left_on='County',\n",
    "    right_on='county',\n",
    "    how='inner'\n",
    ")\n",
    "\n",
    "#Create the bee population density column\n",
    "years = [2002, 2007, 2012, 2017, 2022]\n",
    "\n",
    "for year in years:\n",
    "    merged_data[f'{year}_bee_density'] = merged_data[year] / merged_data['Total_Area_km2']\n",
    "#Earlier code to create bee population increase by year\n",
    "# df[2007_density] = df[2007] / DF['Total_Area_km2']\n",
    "#df['2007_increase'] = df.apply(lambda x: 0 if (x[2007] - x[2002]) < 0 else 1, axis=1)\n",
    "#df['2012_increase'] = df.apply(lambda x: 0 if (x[2012] - x[2007]) < 0 else 1, axis=1)\n",
    "#df['2017_increase'] = df.apply(lambda x: 0 if (x[2017] - x[2012]) < 0 else 1, axis=1)\n",
    "#df['2022_increase'] = df.apply(lambda x: 0 if (x[2022] - x[2017]) < 0 else 1, axis=1)\n",
    "#df['County'] = df['County'].apply(lambda x: x.title()+' County')\n",
    "\n",
    "print(merged_data)\n",
    "\n"
   ]
  },
  {
   "cell_type": "markdown",
   "metadata": {
    "id": "pVln8gbNZWHE"
   },
   "source": [
    "df_fips is the dataset for national bee population."
   ]
  },
  {
   "cell_type": "code",
   "execution_count": 19,
   "metadata": {
    "id": "_fsaHB1B3iMe"
   },
   "outputs": [
    {
     "name": "stdout",
     "output_type": "stream",
     "text": [
      "     Fips                        Name  Population  Longitude  Latitude  \\\n",
      "0    2013      aleutians east borough         3.0    -162.89     55.05   \n",
      "1    2016  aleutians west census area         5.0     178.88     51.57   \n",
      "2    2020      anchorage municipality       293.0    -149.89     61.22   \n",
      "3    2050          bethel census area        19.0    -162.31     60.39   \n",
      "4    2060         bristol bay borough         1.0    -156.88     58.74   \n",
      "..    ...                         ...         ...        ...       ...   \n",
      "18  56035             sublette county         9.0    -109.99     42.74   \n",
      "19  56037           sweetwater county        42.0    -108.97     41.62   \n",
      "20  56039                teton county        23.0    -112.26     47.85   \n",
      "21  56041                uinta county        21.0    -110.57     41.26   \n",
      "22  56043             washakie county         8.0    -107.67     43.93   \n",
      "\n",
      "          Km2  UrbanDensity  PercentUrban  Emp-1133  Est-1133  ...  Pay-3161  \\\n",
      "0    18521.02          0.00          0.00       NaN       NaN  ...       NaN   \n",
      "1    11746.24          0.00          0.00       NaN       NaN  ...       NaN   \n",
      "2     4493.05          3.09          1.42       NaN       NaN  ...       NaN   \n",
      "3   109939.76          0.00          0.00       NaN       NaN  ...       NaN   \n",
      "4     1327.31          0.00          0.00       NaN       NaN  ...       NaN   \n",
      "..        ...           ...           ...       ...       ...  ...       ...   \n",
      "18   12780.65          0.00          0.00       NaN       NaN  ...       NaN   \n",
      "19   27173.20          2.15          0.02       NaN       NaN  ...       NaN   \n",
      "20   10924.29          3.52          0.01       NaN       NaN  ...       NaN   \n",
      "21    5409.13          0.00          0.00       NaN       NaN  ...       NaN   \n",
      "22    5809.13          0.00          0.00       NaN       NaN  ...       NaN   \n",
      "\n",
      "    Emp-3162  Est-3162  Pay-3162  Emp-5211  Est-5211  Pay-5211  Emp-5232  \\\n",
      "0        NaN       NaN       NaN       NaN       NaN       NaN       NaN   \n",
      "1        NaN       NaN       NaN       NaN       NaN       NaN       NaN   \n",
      "2        NaN       NaN       NaN       NaN       NaN       NaN       NaN   \n",
      "3        NaN       NaN       NaN       NaN       NaN       NaN       NaN   \n",
      "4        NaN       NaN       NaN       NaN       NaN       NaN       NaN   \n",
      "..       ...       ...       ...       ...       ...       ...       ...   \n",
      "18       NaN       NaN       NaN       NaN       NaN       NaN       NaN   \n",
      "19       NaN       NaN       NaN       NaN       NaN       NaN       NaN   \n",
      "20       NaN       NaN       NaN       NaN       NaN       NaN       NaN   \n",
      "21       NaN       NaN       NaN       NaN       NaN       NaN       NaN   \n",
      "22       NaN       NaN       NaN       NaN       NaN       NaN       NaN   \n",
      "\n",
      "    Est-5232  Pay-5232  \n",
      "0        NaN       NaN  \n",
      "1        NaN       NaN  \n",
      "2        NaN       NaN  \n",
      "3        NaN       NaN  \n",
      "4        NaN       NaN  \n",
      "..       ...       ...  \n",
      "18       NaN       NaN  \n",
      "19       NaN       NaN  \n",
      "20       NaN       NaN  \n",
      "21       NaN       NaN  \n",
      "22       NaN       NaN  \n",
      "\n",
      "[3130 rows x 872 columns]\n"
     ]
    }
   ],
   "source": [
    "states = [\"AK\", \"AL\", \"AR\", \"AZ\", \"CA\", \"CO\", \"CT\", \"DE\", \"FL\", \"GA\", \"HI\", \"IA\",\n",
    "          \"ID\", \"IL\", \"IN\", \"KS\", \"KY\", \"LA\", \"MA\", \"MD\", \"ME\", \"MI\", \"MN\", \"MO\",\n",
    "          \"MS\", \"MT\", \"NC\", \"ND\", \"NE\", \"NH\", \"NJ\", \"NM\", \"NV\", \"NY\", \"OH\", \"OK\",\n",
    "          \"OR\", \"PA\", \"RI\", \"SC\", \"SD\", \"TN\", \"TX\", \"UT\", \"VA\", \"VT\", \"WA\", \"WI\",\n",
    "          \"WV\", \"WY\"]\n",
    "year = 2021\n",
    "naics_value = 4\n",
    "df_full = pd.DataFrame()\n",
    "for state in states:\n",
    "  url = f\"https://raw.githubusercontent.com/ModelEarth/community-timelines/main/training/naics{naics_value}/US/counties/{year}/US-{state}-training-naics{naics_value}-counties-{year}.csv\"\n",
    "  df_ind = pd.read_csv(url)\n",
    "  df_full = pd.concat([df_full, df_ind], axis=0, join='outer')\n",
    "df_full['Name'] = df_full['Name'].str.lower()\n",
    "print(df_full)"
   ]
  },
  {
   "cell_type": "code",
   "execution_count": 20,
   "metadata": {},
   "outputs": [],
   "source": [
    "# Split NAME\n",
    "df_full['Name'] = df_full['Name'].str.extract(r'^([^ ]+)')\n"
   ]
  },
  {
   "cell_type": "code",
   "execution_count": 21,
   "metadata": {},
   "outputs": [
    {
     "name": "stdout",
     "output_type": "stream",
     "text": [
      "     Fips        Name  Population  Longitude  Latitude        Km2  \\\n",
      "0    2013   aleutians         3.0    -162.89     55.05   18521.02   \n",
      "1    2016   aleutians         5.0     178.88     51.57   11746.24   \n",
      "2    2020   anchorage       293.0    -149.89     61.22    4493.05   \n",
      "3    2050      bethel        19.0    -162.31     60.39  109939.76   \n",
      "4    2060     bristol         1.0    -156.88     58.74    1327.31   \n",
      "..    ...         ...         ...        ...       ...        ...   \n",
      "18  56035    sublette         9.0    -109.99     42.74   12780.65   \n",
      "19  56037  sweetwater        42.0    -108.97     41.62   27173.20   \n",
      "20  56039       teton        23.0    -112.26     47.85   10924.29   \n",
      "21  56041       uinta        21.0    -110.57     41.26    5409.13   \n",
      "22  56043    washakie         8.0    -107.67     43.93    5809.13   \n",
      "\n",
      "    UrbanDensity  PercentUrban  Emp-1133  Est-1133  ...  Pay-3161  Emp-3162  \\\n",
      "0           0.00          0.00       NaN       NaN  ...       NaN       NaN   \n",
      "1           0.00          0.00       NaN       NaN  ...       NaN       NaN   \n",
      "2           3.09          1.42       NaN       NaN  ...       NaN       NaN   \n",
      "3           0.00          0.00       NaN       NaN  ...       NaN       NaN   \n",
      "4           0.00          0.00       NaN       NaN  ...       NaN       NaN   \n",
      "..           ...           ...       ...       ...  ...       ...       ...   \n",
      "18          0.00          0.00       NaN       NaN  ...       NaN       NaN   \n",
      "19          2.15          0.02       NaN       NaN  ...       NaN       NaN   \n",
      "20          3.52          0.01       NaN       NaN  ...       NaN       NaN   \n",
      "21          0.00          0.00       NaN       NaN  ...       NaN       NaN   \n",
      "22          0.00          0.00       NaN       NaN  ...       NaN       NaN   \n",
      "\n",
      "    Est-3162  Pay-3162  Emp-5211  Est-5211  Pay-5211  Emp-5232  Est-5232  \\\n",
      "0        NaN       NaN       NaN       NaN       NaN       NaN       NaN   \n",
      "1        NaN       NaN       NaN       NaN       NaN       NaN       NaN   \n",
      "2        NaN       NaN       NaN       NaN       NaN       NaN       NaN   \n",
      "3        NaN       NaN       NaN       NaN       NaN       NaN       NaN   \n",
      "4        NaN       NaN       NaN       NaN       NaN       NaN       NaN   \n",
      "..       ...       ...       ...       ...       ...       ...       ...   \n",
      "18       NaN       NaN       NaN       NaN       NaN       NaN       NaN   \n",
      "19       NaN       NaN       NaN       NaN       NaN       NaN       NaN   \n",
      "20       NaN       NaN       NaN       NaN       NaN       NaN       NaN   \n",
      "21       NaN       NaN       NaN       NaN       NaN       NaN       NaN   \n",
      "22       NaN       NaN       NaN       NaN       NaN       NaN       NaN   \n",
      "\n",
      "    Pay-5232  \n",
      "0        NaN  \n",
      "1        NaN  \n",
      "2        NaN  \n",
      "3        NaN  \n",
      "4        NaN  \n",
      "..       ...  \n",
      "18       NaN  \n",
      "19       NaN  \n",
      "20       NaN  \n",
      "21       NaN  \n",
      "22       NaN  \n",
      "\n",
      "[3130 rows x 872 columns]\n"
     ]
    }
   ],
   "source": [
    "print(df_full)"
   ]
  },
  {
   "cell_type": "code",
   "execution_count": 22,
   "metadata": {},
   "outputs": [],
   "source": [
    "# Convert Fips columns in both dataframes to integers\n",
    "df_full['Fips'] = df_full['Fips'].astype('Int64')  # Used 'Int64' (capital I) for nullable integers\n",
    "merged_data['FIPS'] = merged_data['FIPS'].astype('Int64')\n"
   ]
  },
  {
   "cell_type": "code",
   "execution_count": 23,
   "metadata": {},
   "outputs": [
    {
     "name": "stdout",
     "output_type": "stream",
     "text": [
      "            Name  Fips      State  State ANSI   Ag District  Ag District Code  \\\n",
      "0      aleutians  2013        NaN         NaN           NaN               NaN   \n",
      "1      aleutians  2016        NaN         NaN           NaN               NaN   \n",
      "2      anchorage  2020        NaN         NaN           NaN               NaN   \n",
      "3         bethel  2050        NaN         NaN           NaN               NaN   \n",
      "4        bristol  2060        NaN         NaN           NaN               NaN   \n",
      "...          ...   ...        ...         ...           ...               ...   \n",
      "14696        NaN  <NA>  WISCONSIN        55.0       CENTRAL              50.0   \n",
      "14697        NaN  <NA>  WISCONSIN        55.0  EAST CENTRAL              60.0   \n",
      "14698        NaN  <NA>  WISCONSIN        55.0  WEST CENTRAL              40.0   \n",
      "14699        NaN  <NA>  WISCONSIN        55.0  WEST CENTRAL              40.0   \n",
      "14700        NaN  <NA>    WYOMING        56.0     NORTHWEST              10.0   \n",
      "\n",
      "            County  County ANSI   2002   2007  ...   2022   FIPS       county  \\\n",
      "0              NaN          NaN    NaN    NaN  ...    NaN   <NA>          NaN   \n",
      "1              NaN          NaN    NaN    NaN  ...    NaN   <NA>          NaN   \n",
      "2              NaN          NaN    NaN    NaN  ...    NaN   <NA>          NaN   \n",
      "3              NaN          NaN    NaN    NaN  ...    NaN   <NA>          NaN   \n",
      "4              NaN          NaN    NaN    NaN  ...    NaN   <NA>          NaN   \n",
      "...            ...          ...    ...    ...  ...    ...    ...          ...   \n",
      "14696   green lake         47.0  207.0   99.0  ...  335.0  55047   green lake   \n",
      "14697  fond du lac         39.0  257.0  163.0  ...  135.0  55039  fond du lac   \n",
      "14698   eau claire         35.0  174.0  129.0  ...  574.0  55035   eau claire   \n",
      "14699    la crosse         63.0   88.0  112.0  ...   58.0  55063    la crosse   \n",
      "14700  hot springs         17.0  517.0  517.0  ...  656.0  56017  hot springs   \n",
      "\n",
      "           state Total_Area_km2 2002_bee_density  2007_bee_density  \\\n",
      "0            NaN            NaN              NaN               NaN   \n",
      "1            NaN            NaN              NaN               NaN   \n",
      "2            NaN            NaN              NaN               NaN   \n",
      "3            NaN            NaN              NaN               NaN   \n",
      "4            NaN            NaN              NaN               NaN   \n",
      "...          ...            ...              ...               ...   \n",
      "14696  wisconsin     984.517438         0.210255          0.100557   \n",
      "14697  wisconsin    1983.521079         0.129568          0.082177   \n",
      "14698  wisconsin    1671.059794         0.104126          0.077197   \n",
      "14699  wisconsin    1243.325479         0.070778          0.090081   \n",
      "14700    wyoming    5196.554069         0.099489          0.099489   \n",
      "\n",
      "       2012_bee_density  2017_bee_density  2022_bee_density  \n",
      "0                   NaN               NaN               NaN  \n",
      "1                   NaN               NaN               NaN  \n",
      "2                   NaN               NaN               NaN  \n",
      "3                   NaN               NaN               NaN  \n",
      "4                   NaN               NaN               NaN  \n",
      "...                 ...               ...               ...  \n",
      "14696          0.112746          0.113761          0.340268  \n",
      "14697          0.094781          0.118980          0.068061  \n",
      "14698          0.159779          0.206456          0.343495  \n",
      "14699          0.087668          0.054692          0.046649  \n",
      "14700          0.099489          0.001155          0.126238  \n",
      "\n",
      "[14701 rows x 22 columns]\n"
     ]
    }
   ],
   "source": [
    "#df_fips = df_full[['Name','Fips']].merge(merged_data, how='outer', left_on='Name', right_on='County')\n",
    "\n",
    "df_fips = df_full[['Name','Fips']].merge(\n",
    "    merged_data,\n",
    "    how='outer',\n",
    "    left_on=['Name', 'Fips'],  \n",
    "    right_on=['County', 'FIPS']  \n",
    ")\n",
    "print(df_fips)"
   ]
  },
  {
   "cell_type": "code",
   "execution_count": 24,
   "metadata": {},
   "outputs": [],
   "source": [
    "df_fips.to_csv('../../input/bees/targets/bees-targets_new.csv')"
   ]
  },
  {
   "cell_type": "code",
   "execution_count": null,
   "metadata": {},
   "outputs": [],
   "source": []
  }
 ],
 "metadata": {
  "colab": {
   "provenance": []
  },
  "kernelspec": {
   "display_name": "Python 3 (ipykernel)",
   "language": "python",
   "name": "python3"
  },
  "language_info": {
   "codemirror_mode": {
    "name": "ipython",
    "version": 3
   },
   "file_extension": ".py",
   "mimetype": "text/x-python",
   "name": "python",
   "nbconvert_exporter": "python",
   "pygments_lexer": "ipython3",
   "version": "3.11.4"
  }
 },
 "nbformat": 4,
 "nbformat_minor": 1
}
